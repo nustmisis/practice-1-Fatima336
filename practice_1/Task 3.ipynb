{
 "cells": [
  {
   "cell_type": "markdown",
   "id": "ae5098f0",
   "metadata": {},
   "source": [
    "### Султанова Фатима, МИВТ-23-8"
   ]
  },
  {
   "cell_type": "markdown",
   "id": "4ddfb508",
   "metadata": {},
   "source": [
    "### Задание №3"
   ]
  },
  {
   "cell_type": "code",
   "execution_count": 7,
   "id": "80c4c33a",
   "metadata": {},
   "outputs": [
    {
     "name": "stdout",
     "output_type": "stream",
     "text": [
      "Введите значение вашего веса: 62\n",
      "Введите значение вашего роста: 176\n",
      "Ваш индекс массы тела равен: 0.0020015495867768593\n"
     ]
    }
   ],
   "source": [
    "\"\"\"\n",
    "Напишите программу для расчета индекса массы тела (body mass index – \n",
    "BMI) человека. Пользователь должен ввести свой рост и вес, после чего вы \n",
    "используете одну из приведенных ниже формул для определения индекса.\n",
    "BMI = вес/рост**2 \n",
    "\"\"\"\n",
    "weight = input(\"Введите значение вашего веса: \")\n",
    "height = input(\"Введите значение вашего роста: \")\n",
    "\n",
    "BMI = int(weight)/int(height)**2\n",
    "print('Ваш индекс массы тела равен:', BMI)"
   ]
  }
 ],
 "metadata": {
  "kernelspec": {
   "display_name": "Python 3 (ipykernel)",
   "language": "python",
   "name": "python3"
  },
  "language_info": {
   "codemirror_mode": {
    "name": "ipython",
    "version": 3
   },
   "file_extension": ".py",
   "mimetype": "text/x-python",
   "name": "python",
   "nbconvert_exporter": "python",
   "pygments_lexer": "ipython3",
   "version": "3.9.13"
  }
 },
 "nbformat": 4,
 "nbformat_minor": 5
}
