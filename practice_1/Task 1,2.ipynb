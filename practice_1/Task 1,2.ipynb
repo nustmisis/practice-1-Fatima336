{
 "cells": [
  {
   "cell_type": "markdown",
   "id": "7f8cc091",
   "metadata": {},
   "source": [
    "### Султанова Фатима, МИВТ-23-8"
   ]
  },
  {
   "cell_type": "markdown",
   "id": "fb46e213",
   "metadata": {},
   "source": [
    "### Задание №1"
   ]
  },
  {
   "cell_type": "code",
   "execution_count": 14,
   "id": "8909b65c",
   "metadata": {},
   "outputs": [
    {
     "name": "stdout",
     "output_type": "stream",
     "text": [
      "Объем комнаты равен: 36\n"
     ]
    }
   ],
   "source": [
    "a = 3\n",
    "b = 4\n",
    "c = 3\n",
    "V = a*b*c\n",
    "print('Объем комнаты равен:', V)"
   ]
  },
  {
   "cell_type": "markdown",
   "id": "0ad9ffbd",
   "metadata": {},
   "source": [
    "### Задание №2"
   ]
  },
  {
   "cell_type": "code",
   "execution_count": 16,
   "id": "7f932b10",
   "metadata": {},
   "outputs": [
    {
     "name": "stdout",
     "output_type": "stream",
     "text": [
      "[0, 2, 3, 4, 5]\n"
     ]
    }
   ],
   "source": [
    "list_v = [2,2,3,4,5,0,0]\n",
    "\n",
    "list_v = set(list_v)\n",
    "list_v = list(list_v)\n",
    "\n",
    "print(list_v)"
   ]
  }
 ],
 "metadata": {
  "kernelspec": {
   "display_name": "Python 3 (ipykernel)",
   "language": "python",
   "name": "python3"
  },
  "language_info": {
   "codemirror_mode": {
    "name": "ipython",
    "version": 3
   },
   "file_extension": ".py",
   "mimetype": "text/x-python",
   "name": "python",
   "nbconvert_exporter": "python",
   "pygments_lexer": "ipython3",
   "version": "3.9.13"
  }
 },
 "nbformat": 4,
 "nbformat_minor": 5
}
