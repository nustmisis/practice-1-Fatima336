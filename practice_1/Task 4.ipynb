{
 "cells": [
  {
   "cell_type": "markdown",
   "id": "ab2860e3",
   "metadata": {},
   "source": [
    "### Султанова Фатима, МИВТ-23-8"
   ]
  },
  {
   "cell_type": "markdown",
   "id": "daee7712",
   "metadata": {},
   "source": [
    "### Задание №4"
   ]
  },
  {
   "cell_type": "code",
   "execution_count": 4,
   "id": "c7b8bbb6",
   "metadata": {},
   "outputs": [
    {
     "name": "stdout",
     "output_type": "stream",
     "text": [
      "Введите целое четырехзначное число: 6544\n",
      "Сумма составляющих его цифр равна: 19\n"
     ]
    }
   ],
   "source": [
    "a = input(\"Введите целое четырехзначное число: \")\n",
    "summa = 0\n",
    "for i in range(len(a)):\n",
    "    ost = int(a)%10\n",
    "    a = int(a)/10\n",
    "    summa = summa + ost\n",
    "print('Сумма составляющих его цифр равна:', summa)"
   ]
  }
 ],
 "metadata": {
  "kernelspec": {
   "display_name": "Python 3 (ipykernel)",
   "language": "python",
   "name": "python3"
  },
  "language_info": {
   "codemirror_mode": {
    "name": "ipython",
    "version": 3
   },
   "file_extension": ".py",
   "mimetype": "text/x-python",
   "name": "python",
   "nbconvert_exporter": "python",
   "pygments_lexer": "ipython3",
   "version": "3.9.13"
  }
 },
 "nbformat": 4,
 "nbformat_minor": 5
}
